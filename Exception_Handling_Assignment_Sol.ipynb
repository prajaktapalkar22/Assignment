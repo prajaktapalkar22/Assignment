{
 "cells": [
  {
   "cell_type": "code",
   "execution_count": 25,
   "metadata": {},
   "outputs": [
    {
     "name": "stdout",
     "output_type": "stream",
     "text": [
      "Error : division by zero\n"
     ]
    }
   ],
   "source": [
    "# Example 1\n",
    "# function to divide number by zero\n",
    "def div_zero (num):\n",
    "    return num/0\n",
    "# pass value to function in try block\n",
    "try:\n",
    "    div_zero(5)\n",
    "# print error encountered using parent class Exception\n",
    "except Exception as e:\n",
    "    print('Error :',e)"
   ]
  },
  {
   "cell_type": "code",
   "execution_count": 26,
   "metadata": {},
   "outputs": [
    {
     "name": "stdout",
     "output_type": "stream",
     "text": [
      "Americans play Baseball.\n",
      "Americans play Cricket.\n",
      "Americans watch Baseball.\n",
      "Americans watch Cricket.\n",
      "Indians play Baseball.\n",
      "Indians play Cricket.\n",
      "Indians watch Baseball.\n",
      "Indians watch Cricket.\n"
     ]
    }
   ],
   "source": [
    "# Example 2\n",
    "subjects=['Americans','Indians'] \n",
    "verbs=['play','watch'] \n",
    "objects=['Baseball','Cricket'] \n",
    "\n",
    "l= [(i+' '+j+' '+p+'.') for i in subjects for j in verbs for p in objects ]\n",
    "for i in l:\n",
    "    print(i)"
   ]
  }
 ],
 "metadata": {
  "kernelspec": {
   "display_name": "Python 3",
   "language": "python",
   "name": "python3"
  },
  "language_info": {
   "codemirror_mode": {
    "name": "ipython",
    "version": 3
   },
   "file_extension": ".py",
   "mimetype": "text/x-python",
   "name": "python",
   "nbconvert_exporter": "python",
   "pygments_lexer": "ipython3",
   "version": "3.7.6"
  }
 },
 "nbformat": 4,
 "nbformat_minor": 4
}
