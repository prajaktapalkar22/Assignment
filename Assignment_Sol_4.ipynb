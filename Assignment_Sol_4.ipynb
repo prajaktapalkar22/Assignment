{
 "cells": [
  {
   "cell_type": "code",
   "execution_count": 8,
   "metadata": {},
   "outputs": [
    {
     "name": "stdout",
     "output_type": "stream",
     "text": [
      "Enter sides of triangle\n",
      "6\n",
      "5\n",
      "7\n",
      "Area of triengle is  14.696938456699069\n"
     ]
    }
   ],
   "source": [
    "#Example 1.1\n",
    "import math\n",
    "class triangle:\n",
    "    def get_sides(self):\n",
    "        print('Enter sides of triangle')\n",
    "        self.a = input()\n",
    "        self.b = input()\n",
    "        self.c = input()\n",
    "            \n",
    "class area(triangle):\n",
    "    def get_area(self):\n",
    "        s=(int(self.a)+int(self.b)+int(self.c))/2\n",
    "        area=math.sqrt(s*(s-int(self.a))*(s-int(self.b))*(s-int(self.c)))\n",
    "        return area\n",
    "                                        \n",
    "tri=area()\n",
    "tri.get_sides()\n",
    "print('Area of triengle is ',tri.get_area() )     "
   ]
  },
  {
   "cell_type": "code",
   "execution_count": 7,
   "metadata": {},
   "outputs": [
    {
     "data": {
      "text/plain": [
       "['Company', 'notebook']"
      ]
     },
     "execution_count": 7,
     "metadata": {},
     "output_type": "execute_result"
    }
   ],
   "source": [
    "#Example 1.2\n",
    "def filter_long_words(lst,n): \n",
    "    return [i for i in lst if len(i)>n]\n",
    "\n",
    "lst = ['A','by','Hi','Print','Hello','super','Company','notebook']\n",
    "n=6\n",
    "filter_long_words(lst,n)"
   ]
  },
  {
   "cell_type": "code",
   "execution_count": 2,
   "metadata": {},
   "outputs": [
    {
     "data": {
      "text/plain": [
       "[1, 2, 2, 5, 5, 5, 7, 8]"
      ]
     },
     "execution_count": 2,
     "metadata": {},
     "output_type": "execute_result"
    }
   ],
   "source": [
    "#Example 2.1\n",
    "def get_len(lst):\n",
    "    return [len(i) for i in lst]\n",
    "\n",
    "lst = ['A','by','Hi','Print','Hello','super','Company','notebook']\n",
    "get_len(lst)"
   ]
  },
  {
   "cell_type": "code",
   "execution_count": 3,
   "metadata": {},
   "outputs": [
    {
     "data": {
      "text/plain": [
       "False"
      ]
     },
     "execution_count": 3,
     "metadata": {},
     "output_type": "execute_result"
    }
   ],
   "source": [
    "#Example 2.2\n",
    "def is_vowel(letter):\n",
    "    if letter in ['a','e','i','o','u','A','E','I','O','U'] :\n",
    "        return True\n",
    "    else:\n",
    "        return False\n",
    "\n",
    "is_vowel('p')"
   ]
  }
 ],
 "metadata": {
  "kernelspec": {
   "display_name": "Python 3",
   "language": "python",
   "name": "python3"
  },
  "language_info": {
   "codemirror_mode": {
    "name": "ipython",
    "version": 3
   },
   "file_extension": ".py",
   "mimetype": "text/x-python",
   "name": "python",
   "nbconvert_exporter": "python",
   "pygments_lexer": "ipython3",
   "version": "3.7.6"
  }
 },
 "nbformat": 4,
 "nbformat_minor": 4
}
