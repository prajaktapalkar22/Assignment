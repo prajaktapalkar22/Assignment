{
 "cells": [
  {
   "cell_type": "code",
   "execution_count": 2,
   "metadata": {},
   "outputs": [
    {
     "data": {
      "text/plain": [
       "array([[   16,     8,     4,     2,     1],\n",
       "       [  256,    64,    16,     4,     1],\n",
       "       [ 1296,   216,    36,     6,     1],\n",
       "       [ 4096,   512,    64,     8,     1],\n",
       "       [10000,  1000,   100,    10,     1]], dtype=int32)"
      ]
     },
     "execution_count": 2,
     "metadata": {},
     "output_type": "execute_result"
    }
   ],
   "source": [
    "import numpy as np\n",
    "\n",
    "# Example 1  function so that the columns of the output matrix are powers of the input vector\n",
    "# x -> Input Vector\n",
    "\n",
    "def Vander_Mat(x):\n",
    "    return np.fromfunction(lambda i, j: x[i]**(len(x)-j-1), (len(x),len(x)), dtype=int)\n",
    "\n",
    "x = np.array([2,4,6,8,10])\n",
    "Vander_Mat(x)"
   ]
  },
  {
   "cell_type": "code",
   "execution_count": 1,
   "metadata": {},
   "outputs": [
    {
     "data": {
      "text/plain": [
       "[5.0,\n",
       " 4.666666666666667,\n",
       " 5.666666666666667,\n",
       " 6.666666666666667,\n",
       " 9.666666666666666,\n",
       " 28.666666666666668,\n",
       " 49.333333333333336,\n",
       " 72.66666666666667,\n",
       " 84.0,\n",
       " 93.33333333333333,\n",
       " 116.33333333333333]"
      ]
     },
     "execution_count": 1,
     "metadata": {},
     "output_type": "execute_result"
    }
   ],
   "source": [
    "# Example 2  function to find moving average in an array over a window\n",
    "# Seq -> Input Sequence ; k -> Window Size\n",
    "\n",
    "def Moving_Avg(seq,k):\n",
    "    avg=[]\n",
    "    for i in range(len(seq)-k+1):\n",
    "        x=[]\n",
    "        for j in range(k):\n",
    "            x.append(seq[i+j])\n",
    "        avg.append(sum(x)/len(x))\n",
    "    return avg\n",
    "\n",
    "seq = [3, 5, 7, 2, 8, 10, 11, 65, 72, 81, 99, 100, 150] \n",
    "k = 3\n",
    "Moving_Avg(seq,k)"
   ]
  }
 ],
 "metadata": {
  "kernelspec": {
   "display_name": "Python 3",
   "language": "python",
   "name": "python3"
  },
  "language_info": {
   "codemirror_mode": {
    "name": "ipython",
    "version": 3
   },
   "file_extension": ".py",
   "mimetype": "text/x-python",
   "name": "python",
   "nbconvert_exporter": "python",
   "pygments_lexer": "ipython3",
   "version": "3.7.4"
  }
 },
 "nbformat": 4,
 "nbformat_minor": 2
}
