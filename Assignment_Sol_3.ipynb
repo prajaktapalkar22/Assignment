{
 "cells": [
  {
   "cell_type": "code",
   "execution_count": 25,
   "metadata": {},
   "outputs": [
    {
     "data": {
      "text/plain": [
       "56"
      ]
     },
     "execution_count": 25,
     "metadata": {},
     "output_type": "execute_result"
    }
   ],
   "source": [
    "# Example 1.1 \n",
    "# Custom Reduce Function\n",
    "def myreduce(funct,iter_obj):\n",
    "    a=iter_obj[0]\n",
    "    for i in range(0,len(iter_obj)-1):\n",
    "            a = funct(a,iter_obj[i+1])\n",
    "    return a    \n",
    "\n",
    "lst =[47,11,42,13,56]\n",
    "myreduce(lambda a,b: a if (a > b) else b,lst)  # Find max number in list"
   ]
  },
  {
   "cell_type": "code",
   "execution_count": 26,
   "metadata": {},
   "outputs": [
    {
     "data": {
      "text/plain": [
       "[2, 4, 6, 8, 10]"
      ]
     },
     "execution_count": 26,
     "metadata": {},
     "output_type": "execute_result"
    }
   ],
   "source": [
    "# Exmple 1.2\n",
    "# Custom Filter Function\n",
    "def myfilter(funct,iter_obj):\n",
    "    a=[]\n",
    "    for i in range(0,len(iter_obj)):\n",
    "            if funct(iter_obj[i]):\n",
    "                a.append(iter_obj[i])\n",
    "    return a \n",
    "\n",
    "lst =[1,2,3,4,5,6,7,8,9,10]\n",
    "myfilter(lambda x: x%2==0,lst)"
   ]
  },
  {
   "cell_type": "code",
   "execution_count": 27,
   "metadata": {},
   "outputs": [
    {
     "name": "stdout",
     "output_type": "stream",
     "text": [
      "['x', 'xx', 'xxx', 'xxxx', 'y', 'yy', 'yyy', 'yyyy', 'z', 'zz', 'zzz', 'zzzz']\n",
      "['x', 'y', 'z', 'xx', 'yy', 'zz', 'xxx', 'yyy', 'zzz', 'xxxx', 'yyyy', 'zzzz']\n",
      "[[2], [3], [4], [3], [4], [5], [4], [5], [6]]\n",
      "[[2, 3, 4, 5], [3, 4, 5, 6], [4, 5, 6, 7], [5, 6, 7, 8]]\n",
      "[(1, 1), (2, 1), (3, 1), (1, 2), (2, 2), (3, 2), (1, 3), (2, 3), (3, 3)]\n"
     ]
    }
   ],
   "source": [
    "# Example 2\n",
    "#['x', 'xx', 'xxx', 'xxxx', 'y', 'yy', 'yyy', 'yyyy', 'z', 'zz', 'zzz', 'zzzz'] \n",
    "print([(i+1)*j for j in ['x','y','z'] for i in range(4) ]) \n",
    "\n",
    "#['x', 'y', 'z', 'xx', 'yy', 'zz', 'xxx', 'yyy', 'zzz', 'xxxx', 'yyyy', 'zzzz'] \n",
    "print([(i+1)*j  for i in range(4) for j in ['x','y','z']] )\n",
    "\n",
    "#[[2], [3], [4], [3], [4], [5], [4], [5], [6]] \n",
    "print([[i+j]  for i in range(2,5) for j in range(0,3)] )\n",
    "\n",
    "#[[2, 3, 4, 5], [3, 4, 5, 6],[4, 5, 6, 7], [5, 6, 7, 8]] \n",
    "print([[(x+y) for y in range(2,6)] for x in range(4)])\n",
    "\n",
    "#[(1, 1), (2, 1), (3, 1), (1, 2), (2, 2), (3, 2), (1, 3), (2, 3), (3, 3)] \n",
    "print([(j,i)  for i in range(1,4) for j in range(1,4)] )"
   ]
  }
 ],
 "metadata": {
  "kernelspec": {
   "display_name": "Python 3",
   "language": "python",
   "name": "python3"
  },
  "language_info": {
   "codemirror_mode": {
    "name": "ipython",
    "version": 3
   },
   "file_extension": ".py",
   "mimetype": "text/x-python",
   "name": "python",
   "nbconvert_exporter": "python",
   "pygments_lexer": "ipython3",
   "version": "3.7.6"
  }
 },
 "nbformat": 4,
 "nbformat_minor": 4
}
